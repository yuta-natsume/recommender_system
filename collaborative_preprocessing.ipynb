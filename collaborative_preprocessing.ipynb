{
 "cells": [
  {
   "cell_type": "code",
   "execution_count": 1,
   "id": "21cdc117",
   "metadata": {},
   "outputs": [],
   "source": [
    "import pandas as pd\n",
    "import numpy as np\n",
    "import os\n",
    "import sys\n",
    "import warnings\n",
    "from multiprocessing import Pool\n",
    "from sklearn.metrics import confusion_matrix\n",
    "import seaborn as sn\n",
    "from pandas.io.parsers.readers import read_csv\n",
    "\n",
    "from multiprocessing import Pool\n",
    "from pdb import set_trace\n",
    "from scipy.stats import spearmanr, pearsonr\n",
    "from scipy.spatial.distance import cdist\n",
    "import time\n",
    "import matplotlib.pyplot as plt"
   ]
  },
  {
   "cell_type": "code",
   "execution_count": null,
   "id": "23443f9b",
   "metadata": {},
   "outputs": [],
   "source": [
    "# train data for similarity\n",
    "train_binary_df = pd.DataFrame()\n",
    "train_true_df = pd.DataFrame()\n",
    "for idx in selected_user:\n",
    "    train_summary = pd.read_csv(\"/home/grigriko/seed5_1st1e-4/2nd_lr_1e-05/pred/pred_df_output_\" + str(idx) + \".csv\")\n",
    "    train_summary['pred_by_th'] = 0\n",
    "    best_th = selected_df.loc[selected_df['id']==int(idx)]['th']#ユーザーごとにyoudensJが最大の時のthを求める\n",
    "\n",
    "    best_th = best_th.iloc[-1].strip('[]')\n",
    "    best_th = float(best_th)#float型にして不等号を使える形に\n",
    "    for i in range(len(train_summary)):\n",
    "        if train_summary.loc[i, 'pred_vec'] > best_th:#予測値がthより大きければpred_by_thを1に変更\n",
    "            train_summary.loc[i, 'pred_by_th'] = 1\n",
    "    train_binary_df[idx] = train_summary['pred_by_th']\n",
    "    train_true_df[idx] = train_summary['test_vec']"
   ]
  },
  {
   "cell_type": "code",
   "execution_count": null,
   "id": "6bb1db73",
   "metadata": {},
   "outputs": [],
   "source": [
    "# train data all user\n",
    "all_binary_train = pd.DataFrame()\n",
    "all_true_train = pd.DataFrame()\n",
    "for idx in test_best_youdensJ['id']:\n",
    "    all_train_summary = pd.read_csv(\"/home/grigriko/seed5_1st1e-4/2nd_lr_1e-05/pred/pred_df_output_\" + str(idx) + \".csv\")\n",
    "    all_train_summary['pred_by_th'] = 0#新たな列を宣言し、全て0で埋めておく\n",
    "    best_th = test_best_youdensJ.loc[test_best_youdensJ['id']==int(idx)]['th']#ユーザーごとにyoudensJが最大の時のthを求める\n",
    "    best_th = best_th.iloc[-1].strip('[]')\n",
    "    best_th = float(best_th)#float型にして不等号を使える形に\n",
    "    for i in range(len(all_train_summary)):\n",
    "        if all_train_summary.loc[i, 'pred_vec'] > best_th:#予測値がthより大きければpred_by_thを1に変更\n",
    "            all_train_summary.loc[i, 'pred_by_th'] = 1\n",
    "    all_binary_train[idx] = all_train_summary['pred_by_th']\n",
    "    all_true_train[idx] = all_train_summary['test_vec']\n",
    "all_binary_train    "
   ]
  },
  {
   "cell_type": "code",
   "execution_count": null,
   "id": "11066234",
   "metadata": {},
   "outputs": [],
   "source": [
    "rest_binary_train = all_binary_train.drop(train_binary_df, axis=1)\n",
    "rest_true_train = all_true_train.drop(train_true_df, axis=1)\n",
    "rest_true_train"
   ]
  },
  {
   "cell_type": "code",
   "execution_count": null,
   "id": "e11eb624",
   "metadata": {},
   "outputs": [],
   "source": [
    "# valid data for similarity\n",
    "iANN_ppsed_pred_binary_df = pd.DataFrame()\n",
    "iANN_ppsed_pred_continuous_df = pd.DataFrame()\n",
    "iANN_ppsed_true_df = pd.DataFrame()\n",
    "for idx in selected_user:\n",
    "    \n",
    "    iANN_ppsed_summary = pd.read_csv(\"/home/grigriko/seed5_1st1e-4/2nd_lr_1e-05/pred/valid_pred_df_output_\" + str(idx) + \".csv\")\n",
    "    iANN_ppsed_summary['pred_by_th'] = 0#新たな列を宣言し、全て0で埋めておく\n",
    "    best_th = selected_df.loc[selected_df['id']==int(idx)]['th']#ユーザーごとにyoudensJが最大の時のthを求める\n",
    "\n",
    "    best_th = best_th.iloc[-1].strip('[]')\n",
    "    best_th = float(best_th)#float型にして不等号を使える形に\n",
    "    for i in range(len(iANN_ppsed_summary)):\n",
    "        if iANN_ppsed_summary.loc[i, 'pred_vec'] > best_th:#予測値がthより大きければpred_by_thを1に変更\n",
    "            iANN_ppsed_summary.loc[i, 'pred_by_th'] = 1\n",
    "    \n",
    "    iANN_ppsed_pred_binary_df[idx] = iANN_ppsed_summary['pred_by_th']#thresholdに基づいた0,1の予測値\n",
    "    iANN_ppsed_pred_continuous_df[idx] = iANN_ppsed_summary['pred_vec']#iANNが出力した予測値そのまま\n",
    "    iANN_ppsed_true_df[idx] = iANN_ppsed_summary['test_vec']#実際レビューしたかどうかの教師データ"
   ]
  },
  {
   "cell_type": "code",
   "execution_count": null,
   "id": "52bf6d14",
   "metadata": {},
   "outputs": [],
   "source": [
    "# valid data all user\n",
    "all_binary_df = pd.DataFrame()\n",
    "all_true_df = pd.DataFrame()\n",
    "for idx in test_best_youdensJ['id']:\n",
    "    all_summary = pd.read_csv(\"/home/grigriko/seed5_1st1e-4/2nd_lr_1e-05/pred/valid_pred_df_output_\" + str(idx) + \".csv\")\n",
    "    all_summary['pred_by_th'] = 0#新たな列を宣言し、全て0で埋めておく\n",
    "    best_th = test_best_youdensJ.loc[test_best_youdensJ['id']==int(idx)]['th']#ユーザーごとにyoudensJが最大の時のthを求める\n",
    "    best_th = best_th.iloc[-1].strip('[]')\n",
    "    best_th = float(best_th)#float型にして不等号を使える形に\n",
    "    for i in range(len(all_summary)):\n",
    "        if all_summary.loc[i, 'pred_vec'] > best_th:#予測値がthより大きければpred_by_thを1に変更\n",
    "            all_summary.loc[i, 'pred_by_th'] = 1\n",
    "    all_binary_df[idx] = all_summary['pred_by_th']\n",
    "    all_true_df[idx] = all_summary['test_vec']"
   ]
  },
  {
   "cell_type": "code",
   "execution_count": null,
   "id": "041d2eda",
   "metadata": {},
   "outputs": [],
   "source": [
    "rest_binary_df = all_binary_df.drop(iANN_ppsed_pred_binary_df, axis=1)\n",
    "rest_true_df = all_true_df.drop(iANN_ppsed_true_df, axis=1)\n",
    "rest_true_df"
   ]
  },
  {
   "cell_type": "code",
   "execution_count": null,
   "id": "3ff13720",
   "metadata": {},
   "outputs": [],
   "source": [
    "# test data for prediction\n",
    "test_binary_df = pd.DataFrame()\n",
    "test_continuous_df = pd.DataFrame()\n",
    "test_true_df = pd.DataFrame()\n",
    "for idx in selected_user:\n",
    "    iANN_ppsed_summary = pd.read_csv(\"/home/grigriko/seed5_1st1e-4/2nd_lr_1e-05/test/pred_df_output\" + str(idx) + \".csv\")\n",
    "    iANN_ppsed_summary['pred_by_th'] = 0#新たな列を宣言し、全て0で埋めておく\n",
    "    best_th = selected_df.loc[selected_df['id']==int(idx)]['th']#ユーザーごとにyoudensJが最大の時のthを求める\n",
    "\n",
    "    best_th = best_th.iloc[-1].strip('[]')\n",
    "    best_th = float(best_th)#float型にして不等号を使える形に\n",
    "    for i in range(len(iANN_ppsed_summary)):\n",
    "        if iANN_ppsed_summary.loc[i, 'pred_vec'] > best_th:#予測値がthより大きければpred_by_thを1に変更\n",
    "            iANN_ppsed_summary.loc[i, 'pred_by_th'] = 1\n",
    "    \n",
    "    test_binary_df[idx] = iANN_ppsed_summary['pred_by_th']#thresholdに基づいた0,1の予測値\n",
    "    test_continuous_df[idx] = iANN_ppsed_summary['pred_vec']#iANNが出力した予測値そのまま\n",
    "    test_true_df[idx] = iANN_ppsed_summary['test_vec']#実際レビューしたかどうかの教師データ"
   ]
  },
  {
   "cell_type": "code",
   "execution_count": null,
   "id": "5cb7e6a3",
   "metadata": {},
   "outputs": [],
   "source": [
    "# test data all user\n",
    "all_binary_test = pd.DataFrame()\n",
    "all_true_test = pd.DataFrame()\n",
    "for idx in test_best_youdensJ['id']:\n",
    "    all_summary = pd.read_csv(\"/home/grigriko/seed5_1st1e-4/2nd_lr_1e-05/test/pred_df_output\" + str(idx) + \".csv\")\n",
    "    all_summary['pred_by_th'] = 0#新たな列を宣言し、全て0で埋めておく\n",
    "    best_th = test_best_youdensJ.loc[test_best_youdensJ['id']==int(idx)]['th']#ユーザーごとにyoudensJが最大の時のthを求める\n",
    "    best_th = best_th.iloc[-1].strip('[]')\n",
    "    best_th = float(best_th)#float型にして不等号を使える形に\n",
    "    for i in range(len(all_summary)):\n",
    "        if all_summary.loc[i, 'pred_vec'] > best_th:#予測値がthより大きければpred_by_thを1に変更\n",
    "            all_summary.loc[i, 'pred_by_th'] = 1\n",
    "    all_binary_test[idx] = all_summary['pred_by_th']\n",
    "    all_true_test[idx] = all_summary['test_vec']"
   ]
  },
  {
   "cell_type": "code",
   "execution_count": null,
   "id": "12de7621",
   "metadata": {},
   "outputs": [],
   "source": [
    "rest_binary_test = all_binary_test.drop(test_binary_df, axis=1)\n",
    "rest_true_test = all_true_test.drop(test_true_df, axis=1)\n",
    "rest_true_test"
   ]
  },
  {
   "cell_type": "code",
   "execution_count": null,
   "id": "2f91480d",
   "metadata": {},
   "outputs": [],
   "source": [
    "# trainとvalidが同じ名前で保存されている\n",
    "train_binary_df.to_csv(\"/home/grigriko/collaborative_filtering/preprocessing/binary.csv\",index=False)\n",
    "train_true_df.to_csv(\"/home/grigriko/collaborative_filtering/preprocessing/true.csv\",index=False)\n",
    "all_binary_train.to_csv(\"/home/grigriko/collaborative_filtering/preprocessing/all_binary_df.csv\", index=False)\n",
    "all_true_train.to_csv(\"/home/grigriko/collaborative_filtering/preprocessing/all_user_true.csv\", index=False)\n",
    "rest_binary_train.to_csv(\"/home/grigriko/collaborative_filtering/preprocessing/rest_binary.csv\", index=False)\n",
    "rest_true_train.to_csv(\"/home/grigriko/collaborative_filtering/preprocessing/rest_true.csv\", index=False)\n",
    "\n",
    "iANN_ppsed_pred_binary_df.to_csv(\"/home/grigriko/collaborative_filtering/preprocessing/binary.csv\",index=False)\n",
    "iANN_ppsed_pred_continuous_df.to_csv(\"/home/grigriko/collaborative_filtering/preprocessing/continuous.csv\",index=False)\n",
    "iANN_ppsed_true_df.to_csv(\"/home/grigriko/collaborative_filtering/preprocessing/true.csv\",index=False)\n",
    "all_binary_df.to_csv(\"/home/grigriko/collaborative_filtering/preprocessing/all_binary_df.csv\", index=False)\n",
    "all_true_df.to_csv(\"/home/grigriko/collaborative_filtering/preprocessing/all_user_true.csv\", index=False)\n",
    "rest_binary_df.to_csv(\"/home/grigriko/collaborative_filtering/preprocessing/rest_binary.csv\", index=False)\n",
    "rest_true_df.to_csv(\"/home/grigriko/collaborative_filtering/preprocessing/rest_true.csv\", index=False)\n",
    "\n",
    "test_binary_df.to_csv(\"/home/grigriko/collaborative_filtering/preprocessing/test_binary.csv\",index=False)\n",
    "test_continuous_df.to_csv(\"/home/grigriko/collaborative_filtering/preprocessing/test_continuous.csv\",index=False)\n",
    "test_true_df.to_csv(\"/home/grigriko/collaborative_filtering/preprocessing/test_true.csv\",index=False)\n",
    "all_binary_test.to_csv(\"/home/grigriko/collaborative_filtering/preprocessing/all_binary_test.csv\",index=False)\n",
    "all_true_test.to_csv(\"/home/grigriko/collaborative_filtering/preprocessing/all_true_test.csv\",index=False)\n",
    "rest_binary_test.to_csv(\"/home/grigriko/collaborative_filtering/preprocessing/rest_binary_test.csv\",index=False)\n",
    "rest_true_test.to_csv(\"/home/grigriko/collaborative_filtering/preprocessing/rest_true_test.csv\",index=False)"
   ]
  },
  {
   "cell_type": "code",
   "execution_count": null,
   "id": "99c091b8",
   "metadata": {},
   "outputs": [],
   "source": [
    "integrate_df = pd.concat([iANN_ppsed_pred_binary_df, rest_true_df], axis=1)\n",
    "integrate_df.to_csv(\"/home/grigriko/collaborative_filtering/preprocessing/integrate_df.csv\")"
   ]
  }
 ],
 "metadata": {
  "kernelspec": {
   "display_name": "Python 3 (ipykernel)",
   "language": "python",
   "name": "python3"
  },
  "language_info": {
   "codemirror_mode": {
    "name": "ipython",
    "version": 3
   },
   "file_extension": ".py",
   "mimetype": "text/x-python",
   "name": "python",
   "nbconvert_exporter": "python",
   "pygments_lexer": "ipython3",
   "version": "3.9.16"
  }
 },
 "nbformat": 4,
 "nbformat_minor": 5
}
